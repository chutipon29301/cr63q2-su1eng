{
 "cells": [
  {
   "cell_type": "markdown",
   "metadata": {},
   "source": [
    "# Introduction to python"
   ]
  },
  {
   "cell_type": "markdown",
   "metadata": {},
   "source": [
    "## Getting started\n",
    "วิธีการ run program python ใน jupyter notebook กด `shift + enter` ใน cell "
   ]
  },
  {
   "cell_type": "code",
   "execution_count": null,
   "metadata": {},
   "outputs": [],
   "source": [
    "print('Hello World!')"
   ]
  },
  {
   "cell_type": "markdown",
   "metadata": {},
   "source": [
    "## Syntax\n",
    "ใช้การย่อหน้าสำหรับการเเบ่ง code เช่น"
   ]
  },
  {
   "cell_type": "code",
   "execution_count": null,
   "metadata": {},
   "outputs": [],
   "source": [
    "if 5 > 3:\n",
    "    print('5 is greather than 3')"
   ]
  },
  {
   "cell_type": "markdown",
   "metadata": {},
   "source": [
    "ใช้เครื่องหมาย `#` สำหรับการ comment เช่น"
   ]
  },
  {
   "cell_type": "code",
   "execution_count": null,
   "metadata": {},
   "outputs": [],
   "source": [
    "# This is a line of comment which will not execute\n",
    "print('Hello World!')"
   ]
  },
  {
   "cell_type": "code",
   "execution_count": null,
   "metadata": {},
   "outputs": [],
   "source": [
    "print('Hello World!') # Comment which comes after '#' will not be execute"
   ]
  },
  {
   "cell_type": "code",
   "execution_count": null,
   "metadata": {},
   "outputs": [],
   "source": [
    "\"\"\"\n",
    "This is multiple\n",
    "line of\n",
    "comments\n",
    "\"\"\"\n",
    "print('Hello World!')"
   ]
  },
  {
   "cell_type": "markdown",
   "metadata": {},
   "source": [
    "## Variables\n",
    "การประกาศต่าตัวแปร ในภาษา python ไม่มี syntax ในการประกาศตัวแปรเหมือนกับภาษาอื่นๆ\n",
    "\n",
    "ตัวแปรจะถูกสร้างเมื่อมีการให้ต่ากับตัวแปรนั้นๆ"
   ]
  },
  {
   "cell_type": "code",
   "execution_count": null,
   "metadata": {},
   "outputs": [],
   "source": [
    "a = 10\n",
    "b = 'Hello'\n",
    "print(a)\n",
    "print(b)"
   ]
  },
  {
   "cell_type": "markdown",
   "metadata": {},
   "source": [
    "## Data type in python\n",
    "Primitive data type in python: `str`, `int`, `float`, `boolean`\n",
    "\n",
    "Non-primitive data type in python: `list`, `tuple`, `range`, `dict`, etc.\n",
    "\n",
    "เมื่อต้องการตรวจสอบว่าตัวแปรเป็นชนิดอะไรให้ใช้ function `type`"
   ]
  },
  {
   "cell_type": "code",
   "execution_count": null,
   "metadata": {},
   "outputs": [],
   "source": [
    "a = 'Hello'\n",
    "b = 5\n",
    "c = 3.14\n",
    "d = True\n",
    "e = ['x', 'y', 'z']\n",
    "f = ('x', 'y')\n",
    "g = range(5)\n",
    "h = {'a': 'x', 'b': 'y', 'c': 'z'}\n",
    "\n",
    "print(a, '\\t\\t\\t\\t\\t', type(a))\n",
    "print(b, '\\t\\t\\t\\t\\t', type(b))\n",
    "print(c, '\\t\\t\\t\\t\\t', type(c))\n",
    "print(d, '\\t\\t\\t\\t\\t', type(d))\n",
    "print(e, '\\t\\t\\t',     type(e))\n",
    "print(f, '\\t\\t\\t\\t',   type(f))\n",
    "print(g, '\\t\\t\\t\\t',   type(g))\n",
    "print(h, '\\t\\t',       type(h))"
   ]
  },
  {
   "cell_type": "markdown",
   "metadata": {},
   "source": [
    "## Data casting in python\n",
    "`int()` ใช้ในการเปลี่ยนค่าตัวแปรเป็นชนิด integer\n",
    "\n",
    "`float()` ใช้ในการเปลี่ยนค่าตัวแปรเป็นชนิด float / ทศนิยม\n",
    "\n",
    "`str()` ใช้ในการเปลี่ยนค่าตัวแปรเป็นชนิด string\n"
   ]
  },
  {
   "cell_type": "code",
   "execution_count": null,
   "metadata": {},
   "outputs": [],
   "source": [
    "a = '1'\n",
    "print(a, type(a))\n",
    "b = int(a)\n",
    "print(b, type(b))"
   ]
  },
  {
   "cell_type": "markdown",
   "metadata": {},
   "source": [
    "Auto-casting in python\n",
    "ในการนำ int มาทำ operation กับ float"
   ]
  },
  {
   "cell_type": "code",
   "execution_count": null,
   "metadata": {},
   "outputs": [],
   "source": [
    "a = 2\n",
    "print(a)\n",
    "print(type(a))\n",
    "a = a - 0.1\n",
    "print(a)\n",
    "print(type(a))"
   ]
  },
  {
   "cell_type": "markdown",
   "metadata": {},
   "source": [
    "## Operations\n",
    "\n",
    "[Reference](https://www.geeksforgeeks.org/basic-operators-python)\n",
    "\n",
    "**Arithmetic operators**: Arithmetic operators are used to perform mathematical operations like addition, subtraction, multiplication and division.\n",
    "\n",
    "|OPERATOR|DESCRIPTION|SYNTAX|\n",
    "|:---|:---|:---|\n",
    "|+|Addition: adds two operands|x + y|\n",
    "|-|Subtraction: subtracts two operands|x - y|\n",
    "|*|Multiplication: multiplies two operands|x * y|\n",
    "|/|Division (float): divides the first operand by the second|x / y|\n",
    "|//|Division (floor): divides the first operand by the second|x // y|\n",
    "|%|Modulus: returns the remainder when first operand is divided by the second|x % y|"
   ]
  },
  {
   "cell_type": "code",
   "execution_count": null,
   "metadata": {},
   "outputs": [],
   "source": [
    "# Examples of Arithmetic Operator \n",
    "a = 9\n",
    "b = 4\n",
    "\n",
    "# Addition of numbers \n",
    "add = a + b \n",
    "# Subtraction of numbers \n",
    "sub = a - b \n",
    "# Multiplication of number \n",
    "mul = a * b \n",
    "# Division(float) of number \n",
    "div1 = a / b \n",
    "# Division(floor) of number \n",
    "div2 = a // b \n",
    "# Modulo of both number \n",
    "mod = a % b \n",
    "\n",
    "# print results \n",
    "print(add) \n",
    "print(sub) \n",
    "print(mul) \n",
    "print(div1) \n",
    "print(div2) \n",
    "print(mod) "
   ]
  },
  {
   "cell_type": "markdown",
   "metadata": {},
   "source": [
    "**Relational Operators**: Relational operators compares the values. It either returns True or False according to the condition.\n",
    "\n",
    "|OPERATOR|DESCRIPTION|SYNTAX|\n",
    "|:---|:---|:---|\n",
    "|>|Greater than: True if left operand is greater than the right|x > y|\n",
    "|<|Less than: True if left operand is less than the right|x < y|\n",
    "|==|Equal to: True if both operands are equal|x == y|\n",
    "|!=|Not equal to - True if operands are not equal|x != y|\n",
    "|>=|Greater than or equal to: True if left operand is greater than or equal to the right|x >= y|\n",
    "|<=|Less than or equal to: True if left operand is less than or equal to the right|x <= y|"
   ]
  },
  {
   "cell_type": "code",
   "execution_count": null,
   "metadata": {},
   "outputs": [],
   "source": [
    "# Examples of Relational Operators \n",
    "a = 13\n",
    "b = 33\n",
    "\n",
    "# a > b is False \n",
    "print(a > b) \n",
    "\n",
    "# a < b is True \n",
    "print(a < b) \n",
    "\n",
    "# a == b is False \n",
    "print(a == b) \n",
    "\n",
    "# a != b is True \n",
    "print(a != b) \n",
    "\n",
    "# a >= b is False \n",
    "print(a >= b) \n",
    "\n",
    "# a <= b is True \n",
    "print(a <= b) "
   ]
  },
  {
   "cell_type": "markdown",
   "metadata": {},
   "source": [
    "**Logical operators**: Logical operators perform Logical AND, Logical OR and Logical NOT operations.\n",
    "\n",
    "|OPERATOR|DESCRIPTION|SYNTAX|\n",
    "|:---|:---|:---|\n",
    "|and|Logical AND: True if both the operands are true|x and y|\n",
    "|or|Logical OR: True if either of the operands is true|x or y|\n",
    "|not|Logical NOT: True if operand is false|not x|"
   ]
  },
  {
   "cell_type": "code",
   "execution_count": null,
   "metadata": {},
   "outputs": [],
   "source": [
    "# Examples of Logical Operator \n",
    "a = True\n",
    "b = False\n",
    "  \n",
    "# Print a and b is False \n",
    "print(a and b) \n",
    "  \n",
    "# Print a or b is True \n",
    "print(a or b) \n",
    "  \n",
    "# Print not a is False \n",
    "print(not a) "
   ]
  },
  {
   "cell_type": "markdown",
   "metadata": {},
   "source": [
    "**Assignment operators**: Assignment operators are used to assign values to the variables.\n",
    "\n",
    "\n",
    "|OPERATOR|DESCRIPTION|SYNTAX|\n",
    "|:---|:---|:---|\n",
    "|=|Assign value of right side of expression to left side operand|x = y + z|\n",
    "|+=|Add AND: Add right side operand with left side operand and then assign to left operand|a+=b, a=a+b|\n",
    "|-=|Subtract AND: Subtract right operand from left operand and then assign to left operand|a-=b, a=a-b|\n",
    "|*=|Multiply AND: Multiply right operand with left operand and then assign to left operand|a*=b, a=a*b|\n",
    "|/=|Divide AND: Divide left operand with right operand and then assign to left operand|a/=b, a=a/b|\n",
    "|%=|Modulus AND: Takes modulus using left and right operands and assign result to left operand|a%=b, a=a%b|\n",
    "|//=|Divide(floor) AND: Divide left operand with right operand and then assign the value(floor) to left operand|a//=b, a=a//b|\n",
    "|\\*\\*=|\tExponent AND: Calculate exponent(raise power) value using operands and assign value to left operand|a\\*\\*=b, a=a\\*\\*b"
   ]
  },
  {
   "cell_type": "markdown",
   "metadata": {},
   "source": [
    "## Input\n",
    "การรับค่าตัวแปรจาก keyboard ให้ใช้คำสั่ง `input`\n",
    "\n",
    "คำสั่ง input จะรับค่าจนกว่าจะมีการกด `enter`"
   ]
  },
  {
   "cell_type": "code",
   "execution_count": null,
   "metadata": {},
   "outputs": [],
   "source": [
    "a = input()\n",
    "print(a)"
   ]
  },
  {
   "cell_type": "markdown",
   "metadata": {},
   "source": [
    "## Example: Triangle area\n",
    "ให้รับค่าฐานและความสูงของสามเหลี่ยม ให้คำนวนพื้นที่ของสามเหลี่ยม\n",
    "\n",
    "|case|input|output|\n",
    "|:---:|:---:|:---:|\n",
    "|1|5<br>10|25.0|\n",
    "|2|10.5<br>3|15.75"
   ]
  },
  {
   "cell_type": "code",
   "execution_count": null,
   "metadata": {},
   "outputs": [],
   "source": [
    "base = input()\n",
    "height = input()\n",
    "area = (1 / 2) * float(base) * float(height)\n",
    "print(area)"
   ]
  },
  {
   "cell_type": "markdown",
   "metadata": {},
   "source": [
    "## Exercise: Counting seconds\n",
    "ให้รับค่าตัวแปร 3 ตัว hour, minute, second ให้คำนวนจำนวนวินาทีทั้งหมด\n",
    "\n",
    "|case|input|output|\n",
    "|:---:|:---:|:---:|\n",
    "|1|1<br>2<br>30|3750|\n",
    "|2|5<br>20<br>26|19226|"
   ]
  },
  {
   "cell_type": "code",
   "execution_count": null,
   "metadata": {},
   "outputs": [],
   "source": []
  },
  {
   "cell_type": "markdown",
   "metadata": {},
   "source": [
    "## Exercise: Finding average\n",
    "รับจำนวนจริง 3 ตัว และหาค่าเฉลี่ยของ 3 จำนวนนั้น\n",
    "\n",
    "|case|input|output|\n",
    "|:---:|:---:|:---:|\n",
    "|1|1<br>3<br>5|3|\n",
    "|2|4<br>5<br>7|5.333|"
   ]
  },
  {
   "cell_type": "code",
   "execution_count": null,
   "metadata": {},
   "outputs": [],
   "source": []
  },
  {
   "cell_type": "markdown",
   "metadata": {},
   "source": [
    "## String\n",
    "string สามารถประกาศได้โดยใช้เครื่องหมาย `'` หรือ `\"`"
   ]
  },
  {
   "cell_type": "code",
   "execution_count": null,
   "metadata": {},
   "outputs": [],
   "source": [
    "a = 'Hello World!'\n",
    "b = \"Hello World!\""
   ]
  },
  {
   "cell_type": "markdown",
   "metadata": {},
   "source": [
    "Multiline string"
   ]
  },
  {
   "cell_type": "code",
   "execution_count": null,
   "metadata": {},
   "outputs": [],
   "source": [
    "a = \"\"\"Lorem ipsum dolor sit amet,\n",
    "consectetur adipiscing elit,\n",
    "sed do eiusmod tempor incididunt\n",
    "ut labore et dolore magna aliqua.\"\"\"\n",
    "b = '''Lorem ipsum dolor sit amet,\n",
    "consectetur adipiscing elit,\n",
    "sed do eiusmod tempor incididunt\n",
    "ut labore et dolore magna aliqua.'''"
   ]
  },
  {
   "cell_type": "markdown",
   "metadata": {},
   "source": [
    "การเข้าถึงตัวอักษรของ string จะใช้ลำตับของตัวอักษร ซึ่งจะเรียกว่า index\n",
    "\n",
    "ตัวอักษรแรกจะเริ่มต้นทืี่ index `0` และตัวสุดท้ายจะจบที่ index `ความยาวของ string - 1`\n",
    "\n",
    "ในกรณีที่ต้องการนับ index ของ string จากหลังมาหน้า สามารถใช้ index ที่ติดลบได้ โดยที่ตัวอักษรสุดท้ายจะมี index เป็น `-1`"
   ]
  },
  {
   "cell_type": "code",
   "execution_count": null,
   "metadata": {},
   "outputs": [],
   "source": [
    "a = 'Hello World!'\n",
    "print(a[1])\n",
    "print(a[-1])"
   ]
  },
  {
   "cell_type": "markdown",
   "metadata": {},
   "source": [
    "เราจะสามารถหาความยาวของ string ได้โดยใช้ function `len`"
   ]
  },
  {
   "cell_type": "code",
   "execution_count": null,
   "metadata": {},
   "outputs": [],
   "source": [
    "a = 'Hello World!'\n",
    "print(len(a))"
   ]
  },
  {
   "cell_type": "markdown",
   "metadata": {},
   "source": [
    "ในการเลือก string ที่เป็นช่วงสามารถทำได้โดยใช้ `:` ภายใน `[]`\n",
    "\n",
    "ถ้าต้องการเลือกจนถึงตัวสุดท้าย สามารถเว็น index นั้นไว้ได้"
   ]
  },
  {
   "cell_type": "code",
   "execution_count": null,
   "metadata": {},
   "outputs": [],
   "source": [
    "a = 'Hello World!'\n",
    "print(a[2:5])\n",
    "print(a[-5: -1])\n",
    "print(a[8:])\n",
    "print(a[:4])"
   ]
  },
  {
   "cell_type": "markdown",
   "metadata": {},
   "source": [
    "ตรวจสอบว่า string อันที่ 1 เป็น ส่วนหนึ่งของ string อีกอันหนึ่งหรือไม่"
   ]
  },
  {
   "cell_type": "code",
   "execution_count": null,
   "metadata": {},
   "outputs": [],
   "source": [
    "print(\"Hel\" in \"Hello\")\n",
    "print(\"loo\" in \"Hello\")"
   ]
  },
  {
   "cell_type": "markdown",
   "metadata": {},
   "source": [
    "## Exercise: ID card\n",
    "ให้ศึกษาวิธีการตรวจสอบหมายเลขบัตรประชาชนจาก link ต่อไปนี้ https://medium.com/@juk/ลองสร้างฟอร์มตรวจสอบเลขบัตร-ปชช-พร้อมมาตรฐาน-wcag-13b2c8c9d015 \n",
    "\n",
    "ให้เขียน program รับ input เป็น string ความยาว 12 ตัว และให้คืนค่าของหมายเลขบัตรประชนที่เป็นไปได้\n",
    "\n",
    "|case|input|output|\n",
    "|:---:|:---:|:---:|\n",
    "|1|123456789012|1234567890121|\n",
    "|2|123456789012|1234567890125|\n",
    "|3|123456789123|1234567891232|"
   ]
  },
  {
   "cell_type": "code",
   "execution_count": null,
   "metadata": {},
   "outputs": [],
   "source": []
  },
  {
   "attachments": {},
   "cell_type": "markdown",
   "metadata": {},
   "source": [
    "## Condition\n",
    "\n",
    "### If statement\n",
    "\n",
    "```\n",
    "if condition:\n",
    "   statement1\n",
    "statement2\n",
    "```\n",
    "\n",
    "![if-statement.jpg](./img/if-statement.jpg)"
   ]
  },
  {
   "cell_type": "code",
   "execution_count": null,
   "metadata": {},
   "outputs": [],
   "source": [
    "# python program to illustrate If statement \n",
    "  \n",
    "i = 10\n",
    "if (i > 15): \n",
    "   print (\"10 is less than 15\") \n",
    "print (\"I am Not in if\") "
   ]
  },
  {
   "attachments": {},
   "cell_type": "markdown",
   "metadata": {},
   "source": [
    "### If-else statement\n",
    "\n",
    "```\n",
    "if (condition):\n",
    "    # Executes this block if\n",
    "    # condition is true\n",
    "else:\n",
    "    # Executes this block if\n",
    "    # condition is false\n",
    "```\n",
    "\n",
    "![if-else.jpg](./img/if-else.jpg)"
   ]
  },
  {
   "cell_type": "code",
   "execution_count": null,
   "metadata": {},
   "outputs": [],
   "source": [
    "i = 20; \n",
    "if (i < 15): \n",
    "    print (\"i is smaller than 15\") \n",
    "    print (\"i'm in if Block\") \n",
    "else: \n",
    "    print (\"i is greater than 15\") \n",
    "    print (\"i'm in else Block\") \n",
    "print (\"i'm not in if and not in else Block\") "
   ]
  },
  {
   "attachments": {},
   "cell_type": "markdown",
   "metadata": {},
   "source": [
    "### Nested-if statement\n",
    "\n",
    "```\n",
    "if (condition1):\n",
    "   # Executes when condition1 is true\n",
    "   if (condition2): \n",
    "      # Executes when condition2 is true\n",
    "   # if Block is end here\n",
    "# if Block is end here\n",
    "```\n",
    "\n",
    "![nested-if.jpg](./img/nested-if.jpg)"
   ]
  },
  {
   "cell_type": "code",
   "execution_count": null,
   "metadata": {},
   "outputs": [],
   "source": [
    "i = 10\n",
    "if (i == 10): \n",
    "    #  First if statement \n",
    "    if (i < 15): \n",
    "        print (\"i is smaller than 15\") \n",
    "    # Nested - if statement \n",
    "    # Will only be executed if statement above \n",
    "    # it is true \n",
    "    if (i < 12): \n",
    "        print (\"i is smaller than 12 too\") \n",
    "    else: \n",
    "        print (\"i is greater than 15\") "
   ]
  },
  {
   "attachments": {},
   "cell_type": "markdown",
   "metadata": {},
   "source": [
    "### Else if statement\n",
    "\n",
    "```\n",
    "if (condition):\n",
    "    statement\n",
    "elif (condition):\n",
    "    statement\n",
    ".\n",
    ".\n",
    "else:\n",
    "    statement\n",
    "```\n",
    "\n",
    "![if-elseif-ladder.jpg](./img/if-elseif-ladder.jpg)"
   ]
  },
  {
   "cell_type": "code",
   "execution_count": null,
   "metadata": {},
   "outputs": [],
   "source": [
    "i = 20\n",
    "if (i == 10): \n",
    "    print (\"i is 10\") \n",
    "elif (i == 15): \n",
    "    print (\"i is 15\") \n",
    "elif (i == 20): \n",
    "    print (\"i is 20\") \n",
    "else: \n",
    "    print (\"i is not present\") "
   ]
  },
  {
   "cell_type": "markdown",
   "metadata": {},
   "source": [
    "## Exercise: Grading system\n",
    "\n",
    "ให้รับ input เป็น string ของคะแนนตั้งแต่ 0 - 100 โดยให้ print grade ตามตามต่อไปนี้\n",
    "\n",
    "|score|grade|\n",
    "|:---:|:---:|\n",
    "|0-50|F|\n",
    "|51-60|D|\n",
    "|61-70|C|\n",
    "|71-80|B|\n",
    "|81-100|A|\n",
    "\n",
    "ตังอย่าง\n",
    "\n",
    "|case|input|output|\n",
    "|:---:|:---:|:---:|\n",
    "|1|49|F|\n",
    "|2|59|D|\n",
    "|3|81|A|"
   ]
  },
  {
   "cell_type": "markdown",
   "metadata": {},
   "source": [
    "## Exercise: Taxi meter\n",
    "\n",
    "จงเขียนprogram ที่คำนวนค่าเดินทางของรถ taxi โดยรับ input เป็นตัวเลขตัวหนึ่งแทนจำนวนกิโลเมตรที่เดินทาง และกำหนดเงื่อนไขราคาดังนี้\n",
    "\n",
    "- 2 กิโลเมตรแรกราคา 35 บาท\n",
    "- ตั้งเเต่กิโลเมตรที่ 2 ถึง 10 ราคากิโลเมตรละ 5 บาท\n",
    "- ตั้งเเต่กิโลเมตรที่ 10 ถึง 20 ราคากิโลเมตรละ 3 บาท\n",
    "- ตั้งเเต่กิโลเมตรที่ 20 ถึง 30 ราคากิโลเมตรละ 2.5 บาท\n",
    "- ตั้งเเต่กิโลเมตรที่ 30 เป็นต้นไป คิดราคาเหมา 500 บาท\n",
    "- เศษของกิโลเมตรให้ปัดขึ้นเป็น 1 กิโลเมตร\n",
    "\n",
    "|case|input|output|\n",
    "|:---:|:---:|:---:|\n",
    "|1|1.8|35|\n",
    "|2|14.2|60|\n",
    "|3|152.58|500|"
   ]
  },
  {
   "cell_type": "code",
   "execution_count": null,
   "metadata": {},
   "outputs": [],
   "source": []
  }
 ],
 "metadata": {
  "file_extension": ".py",
  "kernelspec": {
   "display_name": "Python 3",
   "language": "python",
   "name": "python3"
  },
  "language_info": {
   "codemirror_mode": {
    "name": "ipython",
    "version": 3
   },
   "file_extension": ".py",
   "mimetype": "text/x-python",
   "name": "python",
   "nbconvert_exporter": "python",
   "pygments_lexer": "ipython3",
   "version": "3.8.2"
  },
  "mimetype": "text/x-python",
  "name": "python",
  "npconvert_exporter": "python",
  "pygments_lexer": "ipython3",
  "version": 3
 },
 "nbformat": 4,
 "nbformat_minor": 2
}
