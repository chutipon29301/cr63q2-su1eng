{
 "cells": [
  {
   "cell_type": "markdown",
   "metadata": {},
   "source": [
    "# Finding mean"
   ]
  },
  {
   "cell_type": "code",
   "execution_count": 7,
   "metadata": {},
   "outputs": [
    {
     "name": "stdout",
     "output_type": "stream",
     "text": [
      "3\n",
      "1\n",
      "3\n",
      "5\n",
      "3.0\n"
     ]
    }
   ],
   "source": [
    "a = int(input())\n",
    "b = []\n",
    "for i in range(a):\n",
    "    b.append(float(input()))\n",
    "print(sum(b)/a)"
   ]
  },
  {
   "cell_type": "markdown",
   "metadata": {},
   "source": [
    "# Method 1: As in class"
   ]
  },
  {
   "cell_type": "code",
   "execution_count": 4,
   "metadata": {},
   "outputs": [
    {
     "name": "stdout",
     "output_type": "stream",
     "text": [
      "1\n",
      "4\n",
      "1 2 3 4\n",
      "2 1 4 3\n",
      "3 4 1 2\n",
      "4 3 2 1\n",
      "Case #1: 4 0 0\n"
     ]
    }
   ],
   "source": [
    "# Recieve case number\n",
    "caseCount = int(input())\n",
    "\n",
    "# For loop in each case\n",
    "for i in range(caseCount):\n",
    "\n",
    "    # Recieve dimension for a list\n",
    "    dimension = int(input())\n",
    "\n",
    "    # Init variables\n",
    "    frame = []\n",
    "    k = 0\n",
    "    r = 0\n",
    "    c = 0\n",
    "    \n",
    "    # For loop for each line e.g. '1 2 3 4'\n",
    "    for j in range(dimension):\n",
    "        line = input()\n",
    "        \n",
    "        # Split string into list of strings e.g. '1 2 3 4' => ['1', '2', '3', '4']\n",
    "        elem = line.split(' ')\n",
    "        \n",
    "        # Declase empty list to store int which will be converted from elem \n",
    "        # results will be a list of int e.g. ['1', '2', '3', '4'] => [1, 2, 3, 4]\n",
    "        intElem = []\n",
    "        for x in elem:\n",
    "            intElem.append(int(x))\n",
    "        \n",
    "        # Check if each row contain duplicate element using set\n",
    "        # If it contain duplicate element (not equal) add 1 to r\n",
    "        if len(intElem) != len(set(intElem)):\n",
    "            r += 1\n",
    "            \n",
    "        # Add value on main diagonal from upper left to lower right to k\n",
    "        k += intElem[j]\n",
    "        \n",
    "        # Append intElem to frame\n",
    "        frame.append(intElem)\n",
    "    \n",
    "    # For loop through frame\n",
    "    for j in range(dimension):\n",
    "        \n",
    "        # Decalre to store column\n",
    "        col = []\n",
    "        for k in range(dimension):\n",
    "            col.append(frame[k][j])\n",
    "        \n",
    "        # Check if column contain duplicate element if yes add 1 to c\n",
    "        if len(col) != len(set(col)):\n",
    "            c += 1\n",
    "            \n",
    "    # Print output e.g. 'Case #1: 4 0 0'\n",
    "    print('Case #' + str(i + 1) + ': ' + str(k) + ' ' + str(r) + ' ' + str(c))"
   ]
  },
  {
   "cell_type": "markdown",
   "metadata": {},
   "source": [
    "# Method 2: More advance way"
   ]
  },
  {
   "cell_type": "code",
   "execution_count": 6,
   "metadata": {},
   "outputs": [
    {
     "name": "stdout",
     "output_type": "stream",
     "text": [
      "1\n",
      "4\n",
      "1 2 3 4\n",
      "2 1 4 3\n",
      "3 4 1 2\n",
      "4 3 2 1\n",
      "Case #1: 4 0 0\n"
     ]
    }
   ],
   "source": [
    "for i in range(int(input())):\n",
    "    dimension = int(input())\n",
    "    frame = []\n",
    "    k = 0\n",
    "    r = 0\n",
    "    c = 0\n",
    "\n",
    "    for j in range(dimension):\n",
    "        intElem = list(map(int, input().split(' ')))\n",
    "        if len(set(intElem)) != len(intElem):\n",
    "            r += 1\n",
    "        k += intElem[j]\n",
    "        frame.append(intElem)\n",
    "    for j in range(dimension):\n",
    "        col = [frame[k][j] for k in range(dimension)]\n",
    "        if len(set(col)) < len(col):\n",
    "            c += 1\n",
    "    print('Case #' + str(i + 1) + ': ' + str(k) + ' ' + str(r) + ' ' + str(c))"
   ]
  },
  {
   "cell_type": "code",
   "execution_count": null,
   "metadata": {},
   "outputs": [],
   "source": []
  }
 ],
 "metadata": {
  "kernelspec": {
   "display_name": "Python 3.8.2 64-bit ('env': venv)",
   "language": "python",
   "name": "python38264bitenvvenvaaadf3aa667a44ef8ca0d6bd4274eac2"
  },
  "language_info": {
   "codemirror_mode": {
    "name": "ipython",
    "version": 3
   },
   "file_extension": ".py",
   "mimetype": "text/x-python",
   "name": "python",
   "nbconvert_exporter": "python",
   "pygments_lexer": "ipython3",
   "version": "3.8.2"
  }
 },
 "nbformat": 4,
 "nbformat_minor": 4
}
