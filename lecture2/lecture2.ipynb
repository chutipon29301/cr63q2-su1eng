{
 "cells": [
  {
   "cell_type": "markdown",
   "metadata": {},
   "source": [
    "# Lecture 2: Conditional statement and Loop"
   ]
  },
  {
   "cell_type": "markdown",
   "metadata": {},
   "source": [
    "## Exercise: Finding average\n",
    "รับจำนวนจริง 3 ตัว และหาค่าเฉลี่ยของ 3 จำนวนนั้น\n",
    "\n",
    "|case|input|output|\n",
    "|:---:|:---:|:---:|\n",
    "|1|1<br>3<br>5|3|\n",
    "|2|4<br>5<br>7|5.333|"
   ]
  },
  {
   "cell_type": "code",
   "execution_count": 9,
   "metadata": {},
   "outputs": [
    {
     "name": "stdout",
     "output_type": "stream",
     "text": [
      "12\n",
      "2\n",
      "5\n",
      "6.333333333333333\n"
     ]
    }
   ],
   "source": [
    "a = input()\n",
    "b = input()\n",
    "c = input()\n",
    "mean = (int(a) + int(b) + int(c))/3\n",
    "print(mean)"
   ]
  },
  {
   "cell_type": "markdown",
   "metadata": {},
   "source": [
    "## Exercise: ID card\n",
    "ให้ศึกษาวิธีการตรวจสอบหมายเลขบัตรประชาชนจาก link ต่อไปนี้ https://medium.com/@juk/ลองสร้างฟอร์มตรวจสอบเลขบัตร-ปชช-พร้อมมาตรฐาน-wcag-13b2c8c9d015 \n",
    "\n",
    "ให้เขียน program รับ input เป็น string ความยาว 12 ตัว และให้คืนค่าของหมายเลขบัตรประชนที่เป็นไปได้\n",
    "\n",
    "|case|input|output|\n",
    "|:---:|:---:|:---:|\n",
    "|1|123456789012|1234567890121|\n",
    "|2|123456789123|1234567891232|"
   ]
  },
  {
   "cell_type": "code",
   "execution_count": 15,
   "metadata": {},
   "outputs": [
    {
     "name": "stdout",
     "output_type": "stream",
     "text": [
      "123456789123\n",
      "2\n"
     ]
    }
   ],
   "source": [
    "id = input()\n",
    "sum = int(id[0]) * 13 \\\n",
    "    + int(id[1]) * 12 \\\n",
    "    + int(id[2]) * 11 \\\n",
    "    + int(id[3]) * 10 \\\n",
    "    + int(id[4]) * 9 \\\n",
    "    + int(id[5]) * 8 \\\n",
    "    + int(id[6]) * 7 \\\n",
    "    + int(id[7]) * 6 \\\n",
    "    + int(id[8]) * 5 \\\n",
    "    + int(id[9]) * 4 \\\n",
    "    + int(id[10]) * 3 \\\n",
    "    + int(id[11]) * 2\n",
    "print(str(11 - (sum % 11))[-1])"
   ]
  },
  {
   "cell_type": "markdown",
   "metadata": {},
   "source": [
    "## Exercise: Grading system\n",
    "\n",
    "ให้รับ input เป็น string ของคะแนนตั้งแต่ 0 - 100 โดยให้ print grade ตามตามต่อไปนี้\n",
    "\n",
    "|score|grade|\n",
    "|:---:|:---:|\n",
    "|0-50|F|\n",
    "|51-60|D|\n",
    "|61-70|C|\n",
    "|71-80|B|\n",
    "|81-100|A|\n",
    "\n",
    "ตังอย่าง\n",
    "\n",
    "|case|input|output|\n",
    "|:---:|:---:|:---:|\n",
    "|1|49|F|\n",
    "|2|59|D|\n",
    "|3|81|A|"
   ]
  },
  {
   "cell_type": "code",
   "execution_count": 14,
   "metadata": {},
   "outputs": [
    {
     "name": "stdout",
     "output_type": "stream",
     "text": [
      "74\n",
      "B\n"
     ]
    }
   ],
   "source": [
    "score = int(input())\n",
    "if score <= 50:\n",
    "    print('F')\n",
    "elif 50 < score <= 60:\n",
    "    print('D')\n",
    "elif 60 < score <= 70:\n",
    "    print('C')\n",
    "elif 70 < score <= 80:\n",
    "    print('B')\n",
    "else:\n",
    "    print('A')"
   ]
  },
  {
   "cell_type": "markdown",
   "metadata": {},
   "source": [
    "## Exercise: Taxi meter\n",
    "\n",
    "จงเขียนprogram ที่คำนวนค่าเดินทางของรถ taxi โดยรับ input เป็นตัวเลขตัวหนึ่งแทนจำนวนกิโลเมตรที่เดินทาง และกำหนดเงื่อนไขราคาดังนี้\n",
    "\n",
    "- 2 กิโลเมตรแรกราคา 35 บาท\n",
    "- ตั้งเเต่กิโลเมตรที่ 2 ถึง 10 ราคากิโลเมตรละ 5 บาท\n",
    "- ตั้งเเต่กิโลเมตรที่ 10 ถึง 20 ราคากิโลเมตรละ 3 บาท\n",
    "- ตั้งเเต่กิโลเมตรที่ 20 ถึง 30 ราคากิโลเมตรละ 2.5 บาท\n",
    "- ตั้งเเต่กิโลเมตรที่ 30 เป็นต้นไป คิดราคาเหมา 500 บาท\n",
    "- เศษของกิโลเมตรให้ปัดขึ้นเป็น 1 กิโลเมตร\n",
    "\n",
    "|case|input|output|\n",
    "|:---:|:---:|:---:|\n",
    "|1|1.8|35|\n",
    "|2|14.2|90|\n",
    "|3|152.58|500|"
   ]
  },
  {
   "cell_type": "code",
   "execution_count": 12,
   "metadata": {},
   "outputs": [
    {
     "name": "stdout",
     "output_type": "stream",
     "text": [
      "2.5\n",
      "40\n"
     ]
    }
   ],
   "source": [
    "import math\n",
    "distance = math.ceil(float(input()))\n",
    "price = 35\n",
    "if distance >= 2:\n",
    "    price += min(8, (distance - 2)) * 5\n",
    "if distance >= 10:\n",
    "    price += min(10, (distance - 10)) * 3\n",
    "if distance >= 20:\n",
    "    price += min(10, (distance - 20)) * 2.5\n",
    "if distance >= 30:\n",
    "    price = 500\n",
    "print(price)\n"
   ]
  },
  {
   "cell_type": "markdown",
   "metadata": {},
   "source": [
    "## List"
   ]
  },
  {
   "cell_type": "code",
   "execution_count": 25,
   "metadata": {},
   "outputs": [
    {
     "name": "stdout",
     "output_type": "stream",
     "text": [
      "[]\n",
      "[10, 20, 14]\n",
      "Hello\n",
      "!!!!\n",
      "!!!!\n",
      "length of c 0\n"
     ]
    }
   ],
   "source": [
    "a = []\n",
    "print(a)\n",
    "\n",
    "b = [10, 20, 14] \n",
    "print(b)\n",
    "\n",
    "c = [\"Hello\", \"World\", \"!!!!\"] \n",
    "print(c[0])\n",
    "print(c[2])\n",
    "print(c[-1])\n",
    "print('length of c', len(a))"
   ]
  },
  {
   "cell_type": "markdown",
   "metadata": {},
   "source": [
    "accessing element in list\n",
    "\n",
    "![](https://media.geeksforgeeks.org/wp-content/uploads/List-Slicing.jpg)"
   ]
  },
  {
   "cell_type": "markdown",
   "metadata": {},
   "source": [
    "### Adding element to list\n",
    "```\n",
    "a.append(element)\n",
    "```"
   ]
  },
  {
   "cell_type": "code",
   "execution_count": 23,
   "metadata": {},
   "outputs": [
    {
     "name": "stdout",
     "output_type": "stream",
     "text": [
      "[1]\n",
      "[1, 4]\n",
      "[1, 4, 7]\n"
     ]
    }
   ],
   "source": [
    "a = []\n",
    "a.append(1)\n",
    "print(a)\n",
    "a.append(4)\n",
    "print(a)\n",
    "a.append(7)\n",
    "print(a)"
   ]
  },
  {
   "cell_type": "markdown",
   "metadata": {},
   "source": [
    "## Multi-dimension list"
   ]
  },
  {
   "cell_type": "code",
   "execution_count": 24,
   "metadata": {},
   "outputs": [
    {
     "name": "stdout",
     "output_type": "stream",
     "text": [
      "2\n",
      "4\n"
     ]
    }
   ],
   "source": [
    "a = [[1, 2], [3, 4]]\n",
    "print(a[0][1])\n",
    "print(a[1][1])"
   ]
  },
  {
   "cell_type": "markdown",
   "metadata": {},
   "source": [
    "## Loop\n",
    "\n",
    "### While loop\n",
    "\n",
    "```\n",
    "while expression:\n",
    "    statement(s)\n",
    "```"
   ]
  },
  {
   "cell_type": "code",
   "execution_count": 8,
   "metadata": {},
   "outputs": [
    {
     "name": "stdout",
     "output_type": "stream",
     "text": [
      "Hello World\n",
      "Hello World\n",
      "Hello World\n",
      "Hello World\n",
      "Hello World\n"
     ]
    }
   ],
   "source": [
    "count = 0\n",
    "while (count < 5):     \n",
    "    count += 1\n",
    "    print(\"Hello World\") "
   ]
  },
  {
   "cell_type": "markdown",
   "metadata": {},
   "source": [
    "### For loop\n",
    "#### For loop in list"
   ]
  },
  {
   "cell_type": "code",
   "execution_count": 26,
   "metadata": {},
   "outputs": [
    {
     "name": "stdout",
     "output_type": "stream",
     "text": [
      "apple\n",
      "banana\n",
      "cherry\n"
     ]
    }
   ],
   "source": [
    "fruits = [\"apple\", \"banana\", \"cherry\"]\n",
    "for x in fruits:\n",
    "  print(x)"
   ]
  },
  {
   "cell_type": "markdown",
   "metadata": {},
   "source": [
    "#### For loop in string"
   ]
  },
  {
   "cell_type": "code",
   "execution_count": 27,
   "metadata": {},
   "outputs": [
    {
     "name": "stdout",
     "output_type": "stream",
     "text": [
      "b\n",
      "a\n",
      "n\n",
      "a\n",
      "n\n",
      "a\n"
     ]
    }
   ],
   "source": [
    "for x in \"banana\":\n",
    "  print(x)"
   ]
  },
  {
   "cell_type": "markdown",
   "metadata": {},
   "source": [
    "#### Break statement"
   ]
  },
  {
   "cell_type": "code",
   "execution_count": 28,
   "metadata": {},
   "outputs": [
    {
     "name": "stdout",
     "output_type": "stream",
     "text": [
      "apple\n",
      "banana\n"
     ]
    }
   ],
   "source": [
    "fruits = [\"apple\", \"banana\", \"cherry\"]\n",
    "for x in fruits:\n",
    "  print(x) \n",
    "  if x == \"banana\":\n",
    "    break"
   ]
  },
  {
   "cell_type": "markdown",
   "metadata": {},
   "source": [
    "#### Continue statement"
   ]
  },
  {
   "cell_type": "code",
   "execution_count": 29,
   "metadata": {},
   "outputs": [
    {
     "name": "stdout",
     "output_type": "stream",
     "text": [
      "apple\n",
      "cherry\n"
     ]
    }
   ],
   "source": [
    "fruits = [\"apple\", \"banana\", \"cherry\"]\n",
    "for x in fruits:\n",
    "  if x == \"banana\":\n",
    "    continue\n",
    "  print(x)"
   ]
  },
  {
   "cell_type": "markdown",
   "metadata": {},
   "source": [
    "#### Range function"
   ]
  },
  {
   "cell_type": "code",
   "execution_count": 30,
   "metadata": {},
   "outputs": [
    {
     "name": "stdout",
     "output_type": "stream",
     "text": [
      "0\n",
      "1\n",
      "2\n",
      "3\n",
      "4\n",
      "5\n"
     ]
    }
   ],
   "source": [
    "for x in range(6):\n",
    "  print(x)"
   ]
  },
  {
   "cell_type": "markdown",
   "metadata": {},
   "source": [
    "#### Nested loop"
   ]
  },
  {
   "cell_type": "code",
   "execution_count": 31,
   "metadata": {},
   "outputs": [
    {
     "name": "stdout",
     "output_type": "stream",
     "text": [
      "red apple\n",
      "red banana\n",
      "red cherry\n",
      "big apple\n",
      "big banana\n",
      "big cherry\n",
      "tasty apple\n",
      "tasty banana\n",
      "tasty cherry\n"
     ]
    }
   ],
   "source": [
    "adj = [\"red\", \"big\", \"tasty\"]\n",
    "fruits = [\"apple\", \"banana\", \"cherry\"]\n",
    "\n",
    "for x in adj:\n",
    "  for y in fruits:\n",
    "    print(x, y)"
   ]
  },
  {
   "cell_type": "code",
   "execution_count": 32,
   "metadata": {},
   "outputs": [
    {
     "name": "stdout",
     "output_type": "stream",
     "text": [
      "1\n",
      "2\n",
      "3\n",
      "4\n"
     ]
    }
   ],
   "source": [
    "a = [[1, 2], [3, 4]]\n",
    "for i in a:\n",
    "    for j in i:\n",
    "        print(j)"
   ]
  },
  {
   "cell_type": "markdown",
   "metadata": {},
   "source": [
    "## Example: ID Card (again?)\n",
    "\n",
    "ให้ศึกษาวิธีการตรวจสอบหมายเลขบัตรประชาชนจาก link ต่อไปนี้ https://medium.com/@juk/ลองสร้างฟอร์มตรวจสอบเลขบัตร-ปชช-พร้อมมาตรฐาน-wcag-13b2c8c9d015 \n",
    "\n",
    "ให้เขียน program รับ input เป็น string ความยาว 12 ตัว และให้คืนค่าของหมายเลขบัตรประชนที่เป็นไปได้\n",
    "\n",
    "|case|input|output|\n",
    "|:---:|:---:|:---:|\n",
    "|1|123456789012|1234567890121|\n",
    "|2|123456789123|1234567891232|"
   ]
  },
  {
   "cell_type": "code",
   "execution_count": 39,
   "metadata": {},
   "outputs": [
    {
     "name": "stdout",
     "output_type": "stream",
     "text": [
      "123456789012\n",
      "1\n",
      "2\n",
      "3\n",
      "4\n",
      "5\n",
      "6\n",
      "7\n",
      "8\n",
      "9\n",
      "0\n",
      "1\n",
      "2\n",
      "1\n"
     ]
    }
   ],
   "source": []
  },
  {
   "cell_type": "markdown",
   "metadata": {},
   "source": [
    "## Exercise: Finding average (again?)\n",
    "ให้รับค่า n เป็นจำนวนของตัวเลขที่ต้องการหาค่าเฉลี่ย\n",
    "และ รับจำนวนจริง n ตัว และหาค่าเฉลี่ยของ n จำนวนนั้น\n",
    "\n",
    "|case|input|output|\n",
    "|:---:|:---:|:---:|\n",
    "|1|3<br>1<br>3<br>5|3|\n",
    "|2|4<br>1<br>2<br>3<br>4|2.5|"
   ]
  },
  {
   "cell_type": "code",
   "execution_count": null,
   "metadata": {},
   "outputs": [],
   "source": []
  },
  {
   "cell_type": "markdown",
   "metadata": {},
   "source": [
    "## Problem Vestigium\n",
    "\n",
    "reference https://codingcompetitions.withgoogle.com/codejam/round/000000000019fd27/000000000020993c\n",
    "\n",
    "Vestigium means \"trace\" in Latin. In this problem we work with Latin squares and matrix traces.\n",
    "The trace of a square matrix is the sum of the values on the main diagonal (which runs from the upper left to the lower right).\n",
    "An N-by-N square matrix is a Latin square if each cell contains one of N different values, and no value is repeated within a row or a column. In this problem, we will deal only with \"natural Latin squares\" in which the N values are the integers between 1 and N.\n",
    "Given a matrix that contains only integers between 1 and N, we want to compute its trace and check whether it is a natural Latin square. To give some additional information, instead of simply telling us whether the matrix is a natural Latin square or not, please compute the number of rows and the number of columns that contain repeated values.\n",
    "\n",
    "### Input\n",
    "The first line of the input gives the number of test cases, T. T test cases follow. Each starts with a line containing a single integer N: the size of the matrix to explore. Then, N lines follow. The i-th of these lines contains N integers Mi,1, Mi,2 ..., Mi,N. Mi,j is the integer in the i-th row and j-th column of the matrix.\n",
    "### Output\n",
    "For each test case, output one line containing Case #x: k r c, where x is the test case number (starting from 1), k is the trace of the matrix, r is the number of rows of the matrix that contain repeated elements, and c is the number of columns of the matrix that contain repeated elements.\n",
    "### Limits\n",
    "Test set 1 (Visible Verdict)\n",
    "Time limit: 20 seconds per test set.\n",
    "Memory limit: 1GB.\n",
    "1 ≤ T ≤ 100.\n",
    "2 ≤ N ≤ 100.\n",
    "1 ≤ Mi,j ≤ N, for all i, j.\n",
    "### Sample\n",
    "\n",
    "|Input|Output|\n",
    "|:---|:---|\n",
    "|3<br>4<br>1 2 3 4<br>2 1 4 3<br>3 4 1 2<br>4 3 2 1<br>4<br>2 2 2 2<br>2 3 2 3<br>2 2 2 3<br>2 2 2 2<br>3<br>2 1 3<br>1 3 2<br>1 2 3<br>|Case #1: 4 0 0<br>Case #2: 9 4 4<br>Case #3: 8 0 2|\n",
    "\n",
    "  \n",
    "In Sample Case #1, the input is a natural Latin square, which means no row or column has repeated elements. All four values in the main diagonal are 1, and so the trace (their sum) is 4.\n",
    "In Sample Case #2, all rows and columns have repeated elements. Notice that each row or column with repeated elements is counted only once regardless of the number of elements that are repeated or how often they are repeated within the row or column. In addition, notice that some integers in the range 1 through N may be absent from the input.\n",
    "In Sample Case #3, the leftmost and rightmost columns have repeated elements."
   ]
  },
  {
   "cell_type": "code",
   "execution_count": null,
   "metadata": {},
   "outputs": [],
   "source": []
  },
  {
   "cell_type": "markdown",
   "metadata": {},
   "source": [
    "## Problem Nesting Depth\n",
    "reference https://codingcompetitions.withgoogle.com/codejam/round/000000000019fd27/0000000000209a9f\n",
    "\n",
    "tl;dr: Given a string of digits S, insert a minimum number of opening and closing parentheses into it such that the resulting string is balanced and each digit d is inside exactly d pairs of matching parentheses.\n",
    "Let the nesting of two parentheses within a string be the substring that occurs strictly between them. An opening parenthesis and a closing parenthesis that is further to its right are said to match if their nesting is empty, or if every parenthesis in their nesting matches with another parenthesis in their nesting. The nesting depth of a position p is the number of pairs of matching parentheses m such that p is included in the nesting of m.\n",
    "For example, in the following strings, all digits match their nesting depth: 0((2)1), (((3))1(2)), ((((4)))), ((2))((2))(1). The first three strings have minimum length among those that have the same digits in the same order, but the last one does not since ((22)1) also has the digits 221 and is shorter.\n",
    "Given a string of digits S, find another string S', comprised of parentheses and digits, such that:\n",
    "all parentheses in S' match some other parenthesis,\n",
    "removing any and all parentheses from S' results in S,\n",
    "each digit in S' is equal to its nesting depth, and\n",
    "S' is of minimum length.\n",
    "### Input\n",
    "The first line of the input gives the number of test cases, T. T lines follow. Each line represents a test case and contains only the string S.\n",
    "### Output\n",
    "For each test case, output one line containing Case #x: y, where x is the test case number (starting from 1) and y is the string S' defined above.\n",
    "### Limits\n",
    "Time limit: 20 seconds per test set.\n",
    "Memory limit: 1GB.\n",
    "1 ≤ T ≤ 100.\n",
    "1 ≤ length of S ≤ 100.\n",
    "### Test set 1 (Visible Verdict)\n",
    "Each character in S is either 0 or 1.\n",
    "### Test set 2 (Visible Verdict)\n",
    "Each character in S is a decimal digit between 0 and 9, inclusive.\n",
    "### Sample\n",
    "\n",
    "|Input|Output|\n",
    "|:---|:---|\n",
    "|4<br>0000<br>101<br>111000<br>1|Case #1: 0000<br>Case #2: (1)0(1)<br>Case #3: (111)000<br>Case #4: (1)|\n",
    "\n",
    "  \n",
    "The strings ()0000(), (1)0(((()))1) and (1)(11)000 are not valid solutions to Sample Cases #1, #2 and #3, respectively, only because they are not of minimum length. In addition, 1)( and )(1 are not valid solutions to Sample Case #4 because they contain unmatched parentheses and the nesting depth is 0 at the position where there is a 1.\n",
    "You can create sample inputs that are valid only for Test Set 2 by removing the parentheses from the example strings mentioned in the problem statement."
   ]
  },
  {
   "cell_type": "code",
   "execution_count": null,
   "metadata": {},
   "outputs": [],
   "source": []
  }
 ],
 "metadata": {
  "kernelspec": {
   "display_name": "Python 3.8.2 64-bit ('env': venv)",
   "language": "python",
   "name": "python38264bitenvvenvaaadf3aa667a44ef8ca0d6bd4274eac2"
  },
  "language_info": {
   "codemirror_mode": {
    "name": "ipython",
    "version": 3
   },
   "file_extension": ".py",
   "mimetype": "text/x-python",
   "name": "python",
   "nbconvert_exporter": "python",
   "pygments_lexer": "ipython3",
   "version": "3.8.2"
  }
 },
 "nbformat": 4,
 "nbformat_minor": 4
}
